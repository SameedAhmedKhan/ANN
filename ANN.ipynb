{
  "nbformat": 4,
  "nbformat_minor": 0,
  "metadata": {
    "colab": {
      "name": "ANN",
      "provenance": []
    },
    "kernelspec": {
      "name": "python3",
      "display_name": "Python 3"
    },
    "language_info": {
      "name": "python"
    }
  },
  "cells": [
    {
      "cell_type": "code",
      "execution_count": 143,
      "metadata": {
        "id": "IuuWlTr3d9zN"
      },
      "outputs": [],
      "source": [
        "import pandas as pd\n",
        "# Pandas is a library that we use for data manipulations and DataFrames\n",
        "import numpy as np\n",
        "# Numpy is a library for mathematical operations and matrix manipulations"
      ]
    },
    {
      "cell_type": "code",
      "source": [
        "from google.colab import drive\n",
        "drive.mount('/content/drive')"
      ],
      "metadata": {
        "colab": {
          "base_uri": "https://localhost:8080/"
        },
        "id": "NfgyQygLJ4cu",
        "outputId": "2f4b252b-9054-45e5-ce6b-e4cdf93d57cf"
      },
      "execution_count": 144,
      "outputs": [
        {
          "output_type": "stream",
          "name": "stdout",
          "text": [
            "Drive already mounted at /content/drive; to attempt to forcibly remount, call drive.mount(\"/content/drive\", force_remount=True).\n"
          ]
        }
      ]
    },
    {
      "cell_type": "code",
      "source": [
        "df=pd.read_csv('/content/drive/My Drive/iris_dataset.csv')\n"
      ],
      "metadata": {
        "id": "w11mbXyTKmMG"
      },
      "execution_count": 145,
      "outputs": []
    },
    {
      "cell_type": "markdown",
      "source": [
        "# **Seperating the Features and Labels**\n",
        "\n",
        "\n"
      ],
      "metadata": {
        "id": "37z-X4l6T9aG"
      }
    },
    {
      "cell_type": "code",
      "source": [
        "y=df['flower']\n",
        "x=df.drop('flower', axis=1)\n",
        "x= x.values\n"
      ],
      "metadata": {
        "id": "2OQg7VzQK0bp"
      },
      "execution_count": 146,
      "outputs": []
    },
    {
      "cell_type": "code",
      "source": [
        "# Iterate from 0 to the length of y (Labels)\n",
        "for i in range(len(y)):\n",
        "  # if the label is Iris Setosa assign a number 0 to it\n",
        "  if y[i] == 'Iris-setosa':\n",
        "    y[i]=0\n",
        "    \n",
        "  # if the label is Iris versicolor assign a number 1 to it\n",
        "  elif y[i] == 'Iris-versicolor':\n",
        "    y[i]=1\n",
        "    \n",
        "  # if the label is Iris Virginica assign a number 2 to it\n",
        "  else:\n",
        "    y[i]=2\n",
        "\n",
        "#For each value of array type cast it to integer\n",
        "y=np.array(y).astype(int)\n",
        "\n",
        "print(y)"
      ],
      "metadata": {
        "colab": {
          "base_uri": "https://localhost:8080/"
        },
        "id": "K8cS-s3FLlKt",
        "outputId": "bddf68b9-929d-46da-81de-c7926a4d9181"
      },
      "execution_count": 147,
      "outputs": [
        {
          "output_type": "stream",
          "name": "stdout",
          "text": [
            "[0 0 0 0 0 0 0 0 0 0 0 0 0 0 0 0 0 0 0 0 0 0 0 0 0 0 0 0 0 0 0 0 0 0 0 0 0\n",
            " 0 0 0 0 0 0 0 0 0 0 0 0 0 1 1 1 1 1 1 1 1 1 1 1 1 1 1 1 1 1 1 1 1 1 1 1 1\n",
            " 1 1 1 1 1 1 1 1 1 1 1 1 1 1 1 1 1 1 1 1 1 1 1 1 1 1 2 2 2 2 2 2 2 2 2 2 2\n",
            " 2 2 2 2 2 2 2 2 2 2 2 2 2 2 2 2 2 2 2 2 2 2 2 2 2 2 2 2 2 2 2 2 2 2 2 2 2\n",
            " 2 2]\n"
          ]
        },
        {
          "output_type": "stream",
          "name": "stderr",
          "text": [
            "/usr/local/lib/python3.7/dist-packages/ipykernel_launcher.py:5: SettingWithCopyWarning: \n",
            "A value is trying to be set on a copy of a slice from a DataFrame\n",
            "\n",
            "See the caveats in the documentation: https://pandas.pydata.org/pandas-docs/stable/user_guide/indexing.html#returning-a-view-versus-a-copy\n",
            "  \"\"\"\n",
            "/usr/local/lib/python3.7/dist-packages/ipykernel_launcher.py:9: SettingWithCopyWarning: \n",
            "A value is trying to be set on a copy of a slice from a DataFrame\n",
            "\n",
            "See the caveats in the documentation: https://pandas.pydata.org/pandas-docs/stable/user_guide/indexing.html#returning-a-view-versus-a-copy\n",
            "  if __name__ == '__main__':\n",
            "/usr/local/lib/python3.7/dist-packages/ipykernel_launcher.py:13: SettingWithCopyWarning: \n",
            "A value is trying to be set on a copy of a slice from a DataFrame\n",
            "\n",
            "See the caveats in the documentation: https://pandas.pydata.org/pandas-docs/stable/user_guide/indexing.html#returning-a-view-versus-a-copy\n",
            "  del sys.path[0]\n"
          ]
        }
      ]
    },
    {
      "cell_type": "code",
      "source": [
        "from sklearn.model_selection import train_test_split\n",
        "# Sklearn is the library for Machine Learning operations. Here train test split is used to seperate the data and labels into training set and testing set. \n",
        "# 0.5 shows that the testing size will comprise of 50% of whole data.\n",
        "x_train,x_test,y_train,y_test=train_test_split(x,y,test_size=0.25, shuffle=True)"
      ],
      "metadata": {
        "id": "lvRC7b3_S2gj"
      },
      "execution_count": 148,
      "outputs": []
    },
    {
      "cell_type": "code",
      "source": [
        "# OHE\n",
        "def load_data(inputs,labels):\n",
        "\n",
        "    labels = labels.reshape(-1,1)\n",
        "    \n",
        "    print(\"Shape of X = \",inputs.shape)\n",
        "    print(\"Shape of Y = \",labels.shape)\n",
        "\n",
        "\n",
        "    labels1 = np.zeros((labels.shape[0],3))\n",
        "    for i in range(labels.shape[0]):\n",
        "        labels1[i][labels[i][0]] = 1\n",
        "    labels = labels1\n",
        "    print(\"final shape of Y = \",labels.shape)\n",
        "    return inputs,labels"
      ],
      "metadata": {
        "id": "0FIs8PFlS4Y2"
      },
      "execution_count": 149,
      "outputs": []
    },
    {
      "cell_type": "code",
      "source": [
        "X, Y = load_data(x_train, y_train)"
      ],
      "metadata": {
        "colab": {
          "base_uri": "https://localhost:8080/"
        },
        "id": "XDvEoW-XTD5O",
        "outputId": "bc80cd8c-d45f-462a-9a25-2c176ff46af9"
      },
      "execution_count": 150,
      "outputs": [
        {
          "output_type": "stream",
          "name": "stdout",
          "text": [
            "Shape of X =  (112, 4)\n",
            "Shape of Y =  (112, 1)\n",
            "final shape of Y =  (112, 3)\n"
          ]
        }
      ]
    },
    {
      "cell_type": "code",
      "source": [
        "Layers = 2\n",
        "Features = X.shape[1]\n",
        "DataPoints = X.shape[0]\n",
        "output_nodes =[5,3]\n",
        "activation_function = \"sigmoid\""
      ],
      "metadata": {
        "id": "9XCXlp2GTFyu"
      },
      "execution_count": 151,
      "outputs": []
    },
    {
      "cell_type": "markdown",
      "source": [
        "\n",
        "# **About Weights and Biases:**\n",
        "\n",
        "we will be using Weights of 4x5 and 5x3 each and Biases of 5x3 and 1x3 respectively. The initialize function will initialize the weights and biases with random numbers."
      ],
      "metadata": {
        "id": "bwArkEH9UTYf"
      }
    },
    {
      "cell_type": "code",
      "source": [
        "def InitilizeWeightsandBiases():\n",
        "    inp_size = Features\n",
        "    parameters = {}\n",
        "\n",
        "    for index,cur_op in enumerate(output_nodes):\n",
        "        W_val = np.random.rand(inp_size,cur_op)\n",
        "        W_key = \"W\"+str(index)\n",
        "        B_val = np.random.rand(1,cur_op)\n",
        "        B_key = \"b\"+str(index)\n",
        "        inp_size = cur_op\n",
        "        parameters[W_key] = W_val\n",
        "        parameters[B_key] = B_val\n",
        "        \n",
        "    return parameters"
      ],
      "metadata": {
        "id": "QQPODQmUTWXb"
      },
      "execution_count": 152,
      "outputs": []
    },
    {
      "cell_type": "markdown",
      "source": [
        "**Since, we are dealing with multi class classification, we will be using Softmax for the output layer. The formula for softmax is:** \n",
        "\n",
        "Exponential of array / Sum of exponential of Array\n",
        "\n",
        "![image.png](data:image/png;base64,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)"
      ],
      "metadata": {
        "id": "bACpz2uWUwiw"
      }
    },
    {
      "cell_type": "code",
      "source": [
        "\n",
        "# softmax non-linearity , to be used in last layer of model \n",
        "def softmax(Arr,axis ):\n",
        "    #e^arr\n",
        "    arr = np.exp(Arr)\n",
        "    dir_one = 1\n",
        "    if axis == 1 : \n",
        "      dir_one = arr.shape[0]\n",
        "    #Sum of e^j\n",
        "    arr_sum = np.array(np.sum(arr,axis = axis)).reshape(dir_one,-1)\n",
        "    \n",
        "    # e^arr / #Sum of e^j\n",
        "    arr = arr/arr_sum\n",
        "    \n",
        "    return arr"
      ],
      "metadata": {
        "id": "DxjgGUroUUfG"
      },
      "execution_count": 153,
      "outputs": []
    },
    {
      "cell_type": "code",
      "source": [
        "def tanh(Z):\n",
        "  return np.tanh(Z)\n",
        "def sigmoid(Z):\n",
        "  return 1/(1 + np.exp(-Z))\n",
        "def relu(x):\n",
        "    return max(0.0, x)"
      ],
      "metadata": {
        "id": "kTaij-MZacc1"
      },
      "execution_count": 154,
      "outputs": []
    },
    {
      "cell_type": "markdown",
      "source": [
        "# **We will run the forward propogation here:**\n",
        "*Z = W X + b*\n",
        "\n",
        "\n",
        "*A = Activation Function (Z)*\n",
        "\n",
        "where activation function can be sigmoid, tanh or relu for all layers except the output layer. We are using softmax for output layer."
      ],
      "metadata": {
        "id": "iNW8SMcxWpFw"
      }
    },
    {
      "cell_type": "code",
      "source": [
        "def feed_forward(X,parameters,show = False):\n",
        "    A = X\n",
        "    parameters[\"A0\"] = A\n",
        "    if show : print(\"A0 shape = \",A.shape)\n",
        "    for i in range (Layers):\n",
        "        wt_name = \"W\"+str(i)\n",
        "        bias_name = \"b\"+str(i)\n",
        " \n",
        " \n",
        "        wt = parameters[wt_name]\n",
        "        b = parameters[bias_name]\n",
        " \n",
        " \n",
        "        if show : \n",
        "          print(wt_name,\" shape = \",wt.shape)\n",
        "          print(bias_name,\" shape = \",b.shape)\n",
        " \n",
        "       #  Z = W A + B\n",
        "        Z = np.dot(A,wt)\n",
        "        Z_name = \"Z\"+str(i+1)\n",
        "\n",
        "        if show : \n",
        "          print(Z_name,\" shape = \",Z.shape)\n",
        "        \n",
        "        Z = Z + b\n",
        "        parameters[Z_name] = Z\n",
        "\n",
        "        A_name = \"A\"+str(i+1)\n",
        "        \n",
        "        if i < Layers -1 : \n",
        "            if activation_function==\"tanh\":\n",
        "                A = tanh(Z)\n",
        "            elif activation_function==\"sigmoid\":\n",
        "                A = sigmoid(Z)\n",
        "            elif activation_function==\"relu\":\n",
        "                A = relu(Z)\n",
        "        else :\n",
        "            A = softmax(Z,1)\n",
        "        \n",
        "        if show : \n",
        "          print(A_name,\" shape = \",A.shape)\n",
        "        parameters[A_name] = A\n",
        "    \n",
        "    return A, parameters"
      ],
      "metadata": {
        "id": "i_Lr7jC4WX_h"
      },
      "execution_count": 155,
      "outputs": []
    },
    {
      "cell_type": "markdown",
      "source": [
        "# **Provided the Weights, Biases the dW, dB and learning rate, we will be updating parameters. We are using 0.001 Learning Rate by default.**"
      ],
      "metadata": {
        "id": "buPXFDerXN8z"
      }
    },
    {
      "cell_type": "code",
      "source": [
        "def update_parameters(W, B, dW, dB, learning_rate=0.001):\n",
        "    \n",
        "    # Update rule for each parameter\n",
        "    W = W - learning_rate * dW\n",
        "    B = B - learning_rate * dB\n",
        "\n",
        "    return W , B"
      ],
      "metadata": {
        "id": "LnPJE8aXXC1n"
      },
      "execution_count": 156,
      "outputs": []
    },
    {
      "cell_type": "code",
      "source": [
        "\n",
        "# Fuction to update weights and biases \n",
        "def update_weights(params,dA,learning_rate, show=False):\n",
        "    # For each Layer\n",
        "    for i in range(Layers):\n",
        "        # Index for weights and biases\n",
        "        cur = Layers - i -1 \n",
        "\n",
        "        wt_name = \"W\"+str(cur)\n",
        "        bias_name = \"b\"+str(cur)\n",
        "        z_name = \"Z\"+str(cur+1)\n",
        "        a_name = \"A\"+str(cur)\n",
        "        a_next_name = \"A\"+str(cur+1)\n",
        "        \n",
        "        if show:\n",
        "          print(wt_name,\" \",bias_name,\" \",z_name,\" \",a_name)\n",
        "          print(\"dA shape = \",dA.shape)\n",
        "          print(z_name,\" shape = \",params[z_name].shape)\n",
        "          print(wt_name,\" shape = \",params[wt_name].shape)\n",
        "          print(bias_name,\" shape = \",params[bias_name].shape)\n",
        "          print(a_name,\" shape = \",params[a_name].shape)\n",
        "          print(a_next_name,\" shape = \",params[a_next_name].shape)\n",
        "          \n",
        "        # Extarcting A[i], A[i+1], W and B\n",
        "        a = params[a_name]\n",
        "        a_next = params[a_next_name]\n",
        "        wt = params[wt_name]\n",
        "        bias = params[bias_name]\n",
        "\n",
        "        # If this is first step no need to dZ will be equal to zA\n",
        "        if i == 0 : \n",
        "            dZ = dA\n",
        "        else:\n",
        "            D_tmp = 1 - np.multiply(a_next,a_next)\n",
        "            dZ = np.multiply(dA,D_tmp)\n",
        "\n",
        "        DW =  1/DataPoints * np.dot(a.T,dZ)\n",
        "        \n",
        "        DB = 1/DataPoints * np.sum(dZ,axis = 0).reshape(1,-1)\n",
        "        \n",
        "        dA =  np.dot(dZ,wt.T)\n",
        "        \n",
        "        wt = wt - learning_rate*DW\n",
        "        bias = bias - learning_rate*DB\n",
        "\n",
        "        params[wt_name] = wt\n",
        "        params[bias_name] = bias\n",
        "\n",
        "    return params"
      ],
      "metadata": {
        "id": "SkaoFESDXQaJ"
      },
      "execution_count": 157,
      "outputs": []
    },
    {
      "cell_type": "code",
      "source": [
        "\n",
        "# this will calculate accuracy and print that along with correct prediction \n",
        "def calculate_acc(A,Y):\n",
        "\n",
        "    total_correct = 0\n",
        "\n",
        "    for j in range(A.shape[0]):\n",
        "        maxv = A[j][0]\n",
        "        ind = 0\n",
        "\n",
        "        for i in range( A.shape[1]):\n",
        "            if maxv < A[j][i] :\n",
        "                maxv = A[j][i]\n",
        "                ind = i\n",
        "\n",
        "        if Y[j][ind] == 1:\n",
        "            total_correct = total_correct + 1\n",
        "    \n",
        "    acc =  ( total_correct / A.shape[0] ) * 100\n",
        "    return acc"
      ],
      "metadata": {
        "id": "mJpVRb-wXRcv"
      },
      "execution_count": 158,
      "outputs": []
    },
    {
      "cell_type": "code",
      "source": [
        "def train_model(X,Y,iterations,learning_rate = 0.01):\n",
        "    cur_params = InitilizeWeightsandBiases()\n",
        "\n",
        "    iters=[]\n",
        "    accs=[]\n",
        "    for i in range(iterations):\n",
        "        \n",
        "        a_out,cur_params = feed_forward(X,cur_params)\n",
        "\n",
        "        acc = calculate_acc(a_out,Y)\n",
        "\n",
        "        if i % 100 == 0 :\n",
        "            print(\"Iteration \",i)\n",
        "            print(\"Accuracy = \",acc,\"%\")\n",
        "            print(\"Error = \",100-acc,\"%\")\n",
        "            iters.append(i)\n",
        "            accs.append(acc)\n",
        "        if acc>97:\n",
        "          DA = a_out - Y\n",
        "          cur_params = update_weights(cur_params,DA,learning_rate)\n",
        "          return cur_params, acc, iters, accs\n",
        "\n",
        "        DA = a_out - Y\n",
        "\n",
        "\n",
        "        cur_params = update_weights(cur_params,DA,learning_rate)\n",
        "    return cur_params, acc, iters, accs"
      ],
      "metadata": {
        "id": "C2wMCnqKXU6c"
      },
      "execution_count": 159,
      "outputs": []
    },
    {
      "cell_type": "code",
      "source": [
        "acc=0\n",
        "while acc<90:\n",
        "  my_final_params, acc, iters, accs = train_model(X,Y,5000,0.1)"
      ],
      "metadata": {
        "colab": {
          "base_uri": "https://localhost:8080/"
        },
        "id": "WachU8dEXZG9",
        "outputId": "be1f3be1-ecc0-42ed-c07a-f60b3427007d"
      },
      "execution_count": 160,
      "outputs": [
        {
          "output_type": "stream",
          "name": "stdout",
          "text": [
            "Iteration  0\n",
            "Accuracy =  30.357142857142854 %\n",
            "Error =  69.64285714285714 %\n",
            "Iteration  100\n",
            "Accuracy =  38.392857142857146 %\n",
            "Error =  61.607142857142854 %\n",
            "Iteration  200\n",
            "Accuracy =  68.75 %\n",
            "Error =  31.25 %\n",
            "Iteration  300\n",
            "Accuracy =  62.5 %\n",
            "Error =  37.5 %\n",
            "Iteration  400\n",
            "Accuracy =  61.60714285714286 %\n",
            "Error =  38.39285714285714 %\n",
            "Iteration  500\n",
            "Accuracy =  62.5 %\n",
            "Error =  37.5 %\n",
            "Iteration  600\n",
            "Accuracy =  64.28571428571429 %\n",
            "Error =  35.71428571428571 %\n",
            "Iteration  700\n",
            "Accuracy =  66.07142857142857 %\n",
            "Error =  33.92857142857143 %\n",
            "Iteration  800\n",
            "Accuracy =  83.03571428571429 %\n",
            "Error =  16.964285714285708 %\n",
            "Iteration  900\n",
            "Accuracy =  83.03571428571429 %\n",
            "Error =  16.964285714285708 %\n",
            "Iteration  1000\n",
            "Accuracy =  83.03571428571429 %\n",
            "Error =  16.964285714285708 %\n",
            "Iteration  1100\n",
            "Accuracy =  85.71428571428571 %\n",
            "Error =  14.285714285714292 %\n",
            "Iteration  1200\n",
            "Accuracy =  87.5 %\n",
            "Error =  12.5 %\n",
            "Iteration  1300\n",
            "Accuracy =  89.28571428571429 %\n",
            "Error =  10.714285714285708 %\n",
            "Iteration  1400\n",
            "Accuracy =  90.17857142857143 %\n",
            "Error =  9.82142857142857 %\n",
            "Iteration  1500\n",
            "Accuracy =  91.07142857142857 %\n",
            "Error =  8.92857142857143 %\n",
            "Iteration  1600\n",
            "Accuracy =  91.07142857142857 %\n",
            "Error =  8.92857142857143 %\n",
            "Iteration  1700\n",
            "Accuracy =  91.07142857142857 %\n",
            "Error =  8.92857142857143 %\n",
            "Iteration  1800\n",
            "Accuracy =  91.07142857142857 %\n",
            "Error =  8.92857142857143 %\n",
            "Iteration  1900\n",
            "Accuracy =  91.07142857142857 %\n",
            "Error =  8.92857142857143 %\n",
            "Iteration  2000\n",
            "Accuracy =  91.96428571428571 %\n",
            "Error =  8.035714285714292 %\n",
            "Iteration  2100\n",
            "Accuracy =  91.96428571428571 %\n",
            "Error =  8.035714285714292 %\n",
            "Iteration  2200\n",
            "Accuracy =  92.85714285714286 %\n",
            "Error =  7.142857142857139 %\n",
            "Iteration  2300\n",
            "Accuracy =  92.85714285714286 %\n",
            "Error =  7.142857142857139 %\n",
            "Iteration  2400\n",
            "Accuracy =  92.85714285714286 %\n",
            "Error =  7.142857142857139 %\n",
            "Iteration  2500\n",
            "Accuracy =  92.85714285714286 %\n",
            "Error =  7.142857142857139 %\n",
            "Iteration  2600\n",
            "Accuracy =  92.85714285714286 %\n",
            "Error =  7.142857142857139 %\n",
            "Iteration  2700\n",
            "Accuracy =  93.75 %\n",
            "Error =  6.25 %\n",
            "Iteration  2800\n",
            "Accuracy =  93.75 %\n",
            "Error =  6.25 %\n",
            "Iteration  2900\n",
            "Accuracy =  93.75 %\n",
            "Error =  6.25 %\n",
            "Iteration  3000\n",
            "Accuracy =  93.75 %\n",
            "Error =  6.25 %\n",
            "Iteration  3100\n",
            "Accuracy =  93.75 %\n",
            "Error =  6.25 %\n",
            "Iteration  3200\n",
            "Accuracy =  93.75 %\n",
            "Error =  6.25 %\n",
            "Iteration  3300\n",
            "Accuracy =  93.75 %\n",
            "Error =  6.25 %\n",
            "Iteration  3400\n",
            "Accuracy =  93.75 %\n",
            "Error =  6.25 %\n",
            "Iteration  3500\n",
            "Accuracy =  93.75 %\n",
            "Error =  6.25 %\n",
            "Iteration  3600\n",
            "Accuracy =  93.75 %\n",
            "Error =  6.25 %\n",
            "Iteration  3700\n",
            "Accuracy =  93.75 %\n",
            "Error =  6.25 %\n",
            "Iteration  3800\n",
            "Accuracy =  93.75 %\n",
            "Error =  6.25 %\n",
            "Iteration  3900\n",
            "Accuracy =  94.64285714285714 %\n",
            "Error =  5.357142857142861 %\n",
            "Iteration  4000\n",
            "Accuracy =  94.64285714285714 %\n",
            "Error =  5.357142857142861 %\n",
            "Iteration  4100\n",
            "Accuracy =  94.64285714285714 %\n",
            "Error =  5.357142857142861 %\n",
            "Iteration  4200\n",
            "Accuracy =  94.64285714285714 %\n",
            "Error =  5.357142857142861 %\n",
            "Iteration  4300\n",
            "Accuracy =  94.64285714285714 %\n",
            "Error =  5.357142857142861 %\n",
            "Iteration  4400\n",
            "Accuracy =  94.64285714285714 %\n",
            "Error =  5.357142857142861 %\n",
            "Iteration  4500\n",
            "Accuracy =  95.53571428571429 %\n",
            "Error =  4.464285714285708 %\n",
            "Iteration  4600\n",
            "Accuracy =  95.53571428571429 %\n",
            "Error =  4.464285714285708 %\n",
            "Iteration  4700\n",
            "Accuracy =  95.53571428571429 %\n",
            "Error =  4.464285714285708 %\n",
            "Iteration  4800\n",
            "Accuracy =  95.53571428571429 %\n",
            "Error =  4.464285714285708 %\n",
            "Iteration  4900\n",
            "Accuracy =  95.53571428571429 %\n",
            "Error =  4.464285714285708 %\n"
          ]
        }
      ]
    },
    {
      "cell_type": "code",
      "source": [
        "print(my_final_params['W0'].shape)\n",
        "print(my_final_params['W1'].shape)\n",
        "print(my_final_params['b0'].shape)\n",
        "print(my_final_params['b1'].shape)\n",
        "print(my_final_params['A1'].shape)\n",
        "print(my_final_params['A2'].shape)"
      ],
      "metadata": {
        "colab": {
          "base_uri": "https://localhost:8080/"
        },
        "id": "bOIuSv38XaTg",
        "outputId": "46123826-9458-4fb7-c86b-b43981dea5af"
      },
      "execution_count": 161,
      "outputs": [
        {
          "output_type": "stream",
          "name": "stdout",
          "text": [
            "(4, 5)\n",
            "(5, 3)\n",
            "(1, 5)\n",
            "(1, 3)\n",
            "(112, 5)\n",
            "(112, 3)\n"
          ]
        }
      ]
    },
    {
      "cell_type": "code",
      "source": [
        "import matplotlib.pyplot as plt\n",
        "\n",
        "plt.figure(figsize=(20,10))\n",
        "plt.plot(iters, accs)\n",
        "plt.xlabel('Iteration', size=20)\n",
        "plt.ylabel('Accuracy', size=20)\n",
        "plt.show()"
      ],
      "metadata": {
        "colab": {
          "base_uri": "https://localhost:8080/",
          "height": 535
        },
        "id": "NOp-ZNG7Xvek",
        "outputId": "9b11c64b-135f-4983-f412-7505208b5b70"
      },
      "execution_count": 162,
      "outputs": [
        {
          "output_type": "display_data",
          "data": {
            "text/plain": [
              "<Figure size 1440x720 with 1 Axes>"
            ],
            "image/png": "[encoded data removed]"
          },
          "metadata": {
            "needs_background": "light"
          }
        }
      ]
    },
    {
      "cell_type": "code",
      "source": [
        "XTEST, YTEST = load_data(x_test, y_test)"
      ],
      "metadata": {
        "colab": {
          "base_uri": "https://localhost:8080/"
        },
        "id": "2zTOG27rX2k_",
        "outputId": "191acbc4-c147-42c5-dcfc-d8c89b7e224c"
      },
      "execution_count": 163,
      "outputs": [
        {
          "output_type": "stream",
          "name": "stdout",
          "text": [
            "Shape of X =  (38, 4)\n",
            "Shape of Y =  (38, 1)\n",
            "final shape of Y =  (38, 3)\n"
          ]
        }
      ]
    },
    {
      "cell_type": "code",
      "source": [
        "a_out,test_params = feed_forward(XTEST,my_final_params)\n",
        "calculate_acc(a_out,YTEST)\n"
      ],
      "metadata": {
        "colab": {
          "base_uri": "https://localhost:8080/"
        },
        "id": "zA-wmpfnX-mL",
        "outputId": "0f0585ae-478f-4da4-f4b6-69e0ddde326c"
      },
      "execution_count": 164,
      "outputs": [
        {
          "output_type": "execute_result",
          "data": {
            "text/plain": [
              "97.36842105263158"
            ]
          },
          "metadata": {},
          "execution_count": 164
        }
      ]
    },
    {
      "cell_type": "code",
      "source": [
        ""
      ],
      "metadata": {
        "id": "Nbl-MjH0X_yv"
      },
      "execution_count": 57,
      "outputs": []
    }
  ]
}